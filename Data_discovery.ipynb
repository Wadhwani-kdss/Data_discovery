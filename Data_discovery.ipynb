{
 "cells": [
  {
   "cell_type": "code",
   "execution_count": 1,
   "id": "409bca43",
   "metadata": {},
   "outputs": [],
   "source": [
    "import zipfile as zp\n",
    "import geopandas as gp\n",
    "import pandas as pd\n",
    "import numpy as np\n",
    "import shutil\n",
    "import os\n",
    "from IPython.display import clear_output, display\n",
    "import time\n",
    "import concurrent.futures as cf"
   ]
  },
  {
   "cell_type": "code",
   "execution_count": null,
   "id": "a08e9376",
   "metadata": {},
   "outputs": [],
   "source": [
    "# Code for crawling the shared drive\n",
    "lst = []\n",
    "for path, currentDirectory, files in os.walk(r\"\\\\192.168.1.151\\ncfc_data3\"):\n",
    "    for file in files:\n",
    "        lst.append(os.path.join(path, file))"
   ]
  },
  {
   "cell_type": "code",
   "execution_count": 9,
   "id": "2b7198ae",
   "metadata": {},
   "outputs": [],
   "source": [
    "def zip_read(zip_path, df):\n",
    "    archive = zp.ZipFile(zip_path)\n",
    "    file_list = archive.filelist\n",
    "    os.makedirs(r\"E:\\New folder2\", exist_ok=True)\n",
    "    for file in file_list:\n",
    "#         df = pd.DataFrame({'File_Name':[], 'Columns':[], 'Ext':[], 'Size(in mb)':[]})\n",
    "        file_zip_path = file.filename\n",
    "        name_wt_ext = file.filename.split('/')[-1]\n",
    "        name, ext, size = name_wt_ext.split('.')[0], name_wt_ext.split('.')[-1], file.file_size\n",
    "        if ext == 'shp':\n",
    "            if '/' not in file_zip_path:\n",
    "                for file in archive.namelist():\n",
    "                    if '/' not in file:\n",
    "                        archive.extract(file, r\"E:\\New folder2\")\n",
    "            else:\n",
    "                shpfile_folder_path = '/'.join(file_zip_path.split('/')[:-1])+'/'\n",
    "                for file in archive.namelist():\n",
    "                    if file.startswith(shpfile_folder_path):\n",
    "                        archive.extract(file, r\"E:\\New folder2\")\n",
    "#             path_wo_file = '/'.join(file_zip_path.split('/')[:-1])\n",
    "            temp_df = gp.read_file(r\"E:\\New folder2\\{}\".format(file_zip_path))\n",
    "            columns = set(temp_df.columns)\n",
    "        elif ext in {'xlsx', 'xls'}:\n",
    "            archive.extract(file_zip_path, path=r\"E:\\New folder2\")\n",
    "            temp_df = pd.read_excel(r\"E:\\New folder2\\{}\".format(file_zip_path))\n",
    "            columns = set(temp_df.columns)\n",
    "        else:\n",
    "            columns = np.nan\n",
    "        df.loc[df.shape[0]] = [name, columns, ext, size/(1024*1024), zip_path+'\\\\'+file_zip_path]\n",
    "    shutil.rmtree(r'E:\\New folder2', ignore_errors=True)\n",
    "    return df"
   ]
  },
  {
   "cell_type": "code",
   "execution_count": 2,
   "id": "da2f3a1c",
   "metadata": {},
   "outputs": [],
   "source": [
    "def excel_read(excel_path, df):\n",
    "    ext = excel_path.split('.')[-1]\n",
    "    if ext == 'xls':\n",
    "        temp_df = pd.read_excel(excel_path, engine='xlrd')\n",
    "    else:\n",
    "        temp_df = pd.read_excel(excel_path, engine='openpyxl')\n",
    "    name = excel_path.split('\\\\')[-1].split('.')[0]\n",
    "    columns = set(temp_df.columns)\n",
    "    size = os.path.getsize(excel_path)\n",
    "    df.loc[0] = [name, columns, ext, size/(1024*1024), excel_path]\n",
    "    return df"
   ]
  },
  {
   "cell_type": "code",
   "execution_count": 11,
   "id": "686b4cff",
   "metadata": {},
   "outputs": [],
   "source": [
    "def shape_read(shape_path, df):\n",
    "    temp_df = gp.read_file(shape_path)\n",
    "    name = shape_path.split('\\\\')[-1].split('.')[0]\n",
    "    columns = set(temp_df.columns)\n",
    "    ext = shape_path.split('\\\\')[-1].split('.')[-1]\n",
    "    size = os.path.getsize(shape_path)\n",
    "    df.loc[0] = [name, columns, ext, size/(1024*1024), shape_path]\n",
    "    return df"
   ]
  },
  {
   "cell_type": "code",
   "execution_count": 12,
   "id": "9ce7f911",
   "metadata": {},
   "outputs": [],
   "source": [
    "def misc_read(file_path, df):\n",
    "    name = file_path.split('\\\\')[-1].split('.')[0]\n",
    "    columns = np.nan\n",
    "    ext = file_path.split('\\\\')[-1].split('.')[-1]\n",
    "    size = os.path.getsize(file_path)\n",
    "    df.loc[0] = [name, columns, ext, size/(1024*1024), file_path]\n",
    "    return df"
   ]
  },
  {
   "cell_type": "code",
   "execution_count": 1,
   "id": "b1afadc1",
   "metadata": {},
   "outputs": [],
   "source": [
    "def csv_write(file_paths):\n",
    "    i = 0\n",
    "    j = 0\n",
    "    file_no = 0\n",
    "    while i < len(file_paths):\n",
    "        actual_err = None\n",
    "        error = None\n",
    "        try:\n",
    "            df = pd.DataFrame({'File_Name':[], 'Columns':[], 'Ext':[], 'Size(in mb)':[], 'File_path':[]})\n",
    "            if file_paths[i].split('.')[-1] == 'zip':\n",
    "                df = zip_read(file_paths[i], df)\n",
    "            elif file_paths[i].split('.')[-1] == 'shp':\n",
    "                df = shape_read(file_paths[i], df)\n",
    "            elif file_paths[i].split('.')[-1] in {'xlsx', 'xls'}:\n",
    "            df = excel_read(file_paths[i], df)\n",
    "            else:\n",
    "                df = misc_read(file_paths[i], df)\n",
    "        except Exception as e:\n",
    "            error = e\n",
    "            if type(error) == FileNotFoundError:\n",
    "                try:\n",
    "                    temp = open(file_paths[0])\n",
    "                except Exception as f:\n",
    "                    actual_err = f\n",
    "            if (type(error) != FileNotFoundError) or (actual_err == None):\n",
    "                print(file_paths[i], '\\n', f'{error}')\n",
    "                ex_df = pd.DataFrame({'File_path':[file_paths[i]], 'Exception_type':[type(error)], 'Exception':[error]})\n",
    "                ex_df.to_csv(r'E:\\file_list\\Exceptions4.csv', mode='a', index=False, header=False)\n",
    "            \n",
    "        if (type(error) != FileNotFoundError) or (actual_err == None):\n",
    "            df.to_csv(r'E:\\file_list\\Final_df{}.csv'.format(file_no), mode='a', index=False, header=False)\n",
    "            i += 1\n",
    "            j += 1\n",
    "        if os.path.getsize(r'E:\\file_list\\Final_df{}.csv'.format(file_no)) >= (10*1024*1024):\n",
    "            file_no += 1\n",
    "        if j == 1000:\n",
    "            time.sleep(3)\n",
    "            clear_output(wait=True)\n",
    "            display('Output cleared')\n",
    "            print(i)\n",
    "            j = 0"
   ]
  },
  {
   "cell_type": "code",
   "execution_count": null,
   "id": "6e3898f5",
   "metadata": {},
   "outputs": [],
   "source": []
  }
 ],
 "metadata": {
  "kernelspec": {
   "display_name": "Python 3 (ipykernel)",
   "language": "python",
   "name": "python3"
  },
  "language_info": {
   "codemirror_mode": {
    "name": "ipython",
    "version": 3
   },
   "file_extension": ".py",
   "mimetype": "text/x-python",
   "name": "python",
   "nbconvert_exporter": "python",
   "pygments_lexer": "ipython3",
   "version": "3.9.16"
  }
 },
 "nbformat": 4,
 "nbformat_minor": 5
}
